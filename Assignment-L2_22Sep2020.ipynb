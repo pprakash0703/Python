{
 "cells": [
  {
   "cell_type": "markdown",
   "metadata": {},
   "source": [
    "# Level 2 assignment:\n",
    "-------------------\n",
    "program 1:\n",
    "write a python program using regex or by any other method to check\n",
    "if the credit card number given is valid or invalid. your python program should read the credit card number from input\n",
    "\n",
    "A valid credit card number from xyz Bank has the following rules\n",
    "\n",
    "It must start with 3,4,5\n",
    "It must contain exactly 16 digits\n",
    "It must only consist of digits (0-9)\n",
    "It may have digits in groups of 4, separated by one hyphen \"-\"\n",
    "It must NOT use any other separator like ' ' , '_', etc\n",
    "It must NOT have 4 or more consecutive repeated digits"
   ]
  },
  {
   "cell_type": "code",
   "execution_count": 1,
   "metadata": {},
   "outputs": [
    {
     "name": "stdout",
     "output_type": "stream",
     "text": [
      "5444-5444-5444-5444\n",
      "Valid\n"
     ]
    }
   ],
   "source": [
    "import re\n",
    "\n",
    "cc_no=input()\n",
    "\n",
    "if re.match(r\"^[345]([\\d]{15}|[\\d]{3}(-[\\d]{4}){3})$\",cc_no) and not re.search(r\"(\\d)\\1\\1\\1\",cc_no.replace(\"-\",'')):\n",
    "    print(\"Valid\")\n",
    "else:\n",
    "    print(\"Invalid\")\n"
   ]
  },
  {
   "cell_type": "markdown",
   "metadata": {},
   "source": [
    "program 2:\n",
    "\n",
    "write a python program to output the following \n",
    "look and say sequence of numbers. It should print\n",
    "up to 10 numbers\n",
    "\n",
    "1\n",
    "11\n",
    "21\n",
    "1211\n",
    "111221\n",
    "312211\n",
    "13112221\n",
    "1113213211\n",
    "31131211131221\n"
   ]
  },
  {
   "cell_type": "code",
   "execution_count": 1,
   "metadata": {},
   "outputs": [
    {
     "name": "stdout",
     "output_type": "stream",
     "text": [
      "1\n",
      "11\n",
      "21\n",
      "1211\n",
      "111221\n",
      "312211\n",
      "13112221\n",
      "1113213211\n",
      "31131211131221\n",
      "13211311123113112211\n"
     ]
    }
   ],
   "source": [
    "import itertools\n",
    "str_lst=['1']\n",
    "print(''.join(str_lst))\n",
    "for i in range(1,10):\n",
    "    res=\"\"\n",
    "    #print(str_lst[0])\n",
    "    for key, group in itertools.groupby(str_lst[0]):\n",
    "        res=res+str(len(list(group)))+key\n",
    "    str_lst=[res]\n",
    "    print(res)"
   ]
  },
  {
   "cell_type": "markdown",
   "metadata": {},
   "source": [
    "program 3\n",
    "\n",
    "convert the given roman number in to decimal number.\n",
    "The syntax of roman number is given below\n",
    "write the python program using functools\n",
    "\n",
    "I   1\n",
    "V   5\n",
    "X   10\n",
    "L   50\n",
    "C   100\n",
    "D   500\n",
    "M   1000\n",
    "\n",
    "example:\n",
    "input: XL\n",
    "output: 40"
   ]
  },
  {
   "cell_type": "code",
   "execution_count": 2,
   "metadata": {},
   "outputs": [
    {
     "name": "stdout",
     "output_type": "stream",
     "text": [
      "1501\n"
     ]
    }
   ],
   "source": [
    "import functools\n",
    "ROM_NUM = {'I':1,'V':5,'X':10,'L':50,'C':100,'D':500,'M':1000}\n",
    "\n",
    "ip_val='MDI'\n",
    "\n",
    "result= functools.reduce(lambda op,pos:op+(ROM_NUM[ip_val[pos]] if ROM_NUM[ip_val[pos]] >=ROM_NUM[ip_val[pos+1]] else -ROM_NUM[ip_val[pos]]),range(len(ip_val)-1),ROM_NUM[ip_val[-1]])\n",
    "#result_orig= functools.reduce(lambda op,pos:op+(-ROM_NUM[ip_val[pos]] if ROM_NUM[ip_val[pos]] < ROM_NUM[ip_val[pos+1]] else ROM_NUM[ip_val[pos]]),reversed(range(len(ip_val)-1)),ROM_NUM[ip_val[-1]])\n",
    "\n",
    "print(result)\n",
    "#print(result_orig)"
   ]
  },
  {
   "cell_type": "markdown",
   "metadata": {},
   "source": [
    "program 4\n",
    "\n",
    "write a python proram to count the occurences of string two in \n",
    "string one. your python program should read the strings from input\n",
    "\n",
    "example:\n",
    "input:\n",
    "stringone = \"KSCDCDC\"\n",
    "stringtwo = \"CDC\"\n",
    "output: 2"
   ]
  },
  {
   "cell_type": "code",
   "execution_count": 3,
   "metadata": {},
   "outputs": [
    {
     "name": "stdout",
     "output_type": "stream",
     "text": [
      "Input String : PRAKASHAKAKAKASHKAKAKASH\n",
      "Search String : KAS\n",
      "3\n"
     ]
    }
   ],
   "source": [
    "input_str=input(\"Input String : \")\n",
    "search_str=input(\"Search String : \")\n",
    "print(len([x for x in range(len(input_str)) if search_str in input_str[x:x+len(search_str)]]))"
   ]
  },
  {
   "cell_type": "markdown",
   "metadata": {},
   "source": [
    "program 5\n",
    "\n",
    "write a python program to reverse the words in a given sentence as given below. your python program should read the sentence from input\n",
    "\n",
    "example:\n",
    "input:    \"python programming is awesome\"\n",
    "output:   \"awesome is programming python\""
   ]
  },
  {
   "cell_type": "code",
   "execution_count": 67,
   "metadata": {},
   "outputs": [
    {
     "name": "stdout",
     "output_type": "stream",
     "text": [
      "python programming is awesome\n",
      "awesome is programming python\n"
     ]
    }
   ],
   "source": [
    "str1=input().split()\n",
    "rev_str = [x for x in reversed(str1)]\n",
    "#print(rev_str)\n",
    "print(' '.join(rev_str))"
   ]
  },
  {
   "cell_type": "code",
   "execution_count": null,
   "metadata": {},
   "outputs": [],
   "source": []
  }
 ],
 "metadata": {
  "kernelspec": {
   "display_name": "Python 3",
   "language": "python",
   "name": "python3"
  },
  "language_info": {
   "codemirror_mode": {
    "name": "ipython",
    "version": 3
   },
   "file_extension": ".py",
   "mimetype": "text/x-python",
   "name": "python",
   "nbconvert_exporter": "python",
   "pygments_lexer": "ipython3",
   "version": "3.8.3"
  }
 },
 "nbformat": 4,
 "nbformat_minor": 4
}
